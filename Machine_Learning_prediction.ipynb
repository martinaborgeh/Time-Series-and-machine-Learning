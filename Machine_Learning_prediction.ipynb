{
 "cells": [
  {
   "cell_type": "markdown",
   "id": "c9444332",
   "metadata": {},
   "source": [
    "# Importin User-Defined Functions"
   ]
  },
  {
   "cell_type": "code",
   "execution_count": 1,
   "id": "557557fd",
   "metadata": {},
   "outputs": [
    {
     "name": "stdout",
     "output_type": "stream",
     "text": [
      "importing Jupyter notebook from Project_Functions_Definitions.ipynb\n"
     ]
    }
   ],
   "source": [
    "import import_ipynb\n",
    "\n",
    "from Project_Functions_Definitions import *"
   ]
  },
  {
   "cell_type": "markdown",
   "id": "02067731",
   "metadata": {},
   "source": []
  },
  {
   "cell_type": "markdown",
   "id": "db851111",
   "metadata": {},
   "source": [
    "# Reading_GNSS_Data"
   ]
  },
  {
   "cell_type": "code",
   "execution_count": 2,
   "id": "28febf46",
   "metadata": {},
   "outputs": [],
   "source": [
    "data = Read_GNSS_Data(\"IGS_ALL_DATA_DAILY_OSAH_imputed.csv\")"
   ]
  },
  {
   "cell_type": "markdown",
   "id": "29213fd4",
   "metadata": {},
   "source": [
    "# Retrieving GNSS Stations"
   ]
  },
  {
   "cell_type": "code",
   "execution_count": 3,
   "id": "8692fb23",
   "metadata": {},
   "outputs": [],
   "source": [
    "\n",
    "\n",
    "\n",
    "ABPO_STATION = Station_Extraction('ABPO',data)\n",
    "ADIS_STATION = Station_Extraction('ADIS',data)\n",
    "MAL2_STATION = Station_Extraction('MAL2',data)\n",
    "NURK_STATION = Station_Extraction('NURK',data)\n"
   ]
  },
  {
   "cell_type": "code",
   "execution_count": 11,
   "id": "626b5b55",
   "metadata": {},
   "outputs": [
    {
     "data": {
      "text/html": [
       "<div>\n",
       "<style scoped>\n",
       "    .dataframe tbody tr th:only-of-type {\n",
       "        vertical-align: middle;\n",
       "    }\n",
       "\n",
       "    .dataframe tbody tr th {\n",
       "        vertical-align: top;\n",
       "    }\n",
       "\n",
       "    .dataframe thead th {\n",
       "        text-align: right;\n",
       "    }\n",
       "</style>\n",
       "<table border=\"1\" class=\"dataframe\">\n",
       "  <thead>\n",
       "    <tr style=\"text-align: right;\">\n",
       "      <th></th>\n",
       "      <th>Unnamed: 0</th>\n",
       "      <th>STN</th>\n",
       "      <th>DOY</th>\n",
       "      <th>YEAR</th>\n",
       "      <th>MONTH</th>\n",
       "      <th>DAY</th>\n",
       "      <th>LAT</th>\n",
       "      <th>LON</th>\n",
       "      <th>h</th>\n",
       "      <th>ZTD_igs</th>\n",
       "      <th>p [hPa]</th>\n",
       "      <th>ZHD</th>\n",
       "      <th>ZWD</th>\n",
       "      <th>Tm [K]</th>\n",
       "      <th>Pi(factor)</th>\n",
       "      <th>PWV</th>\n",
       "    </tr>\n",
       "    <tr>\n",
       "      <th>date</th>\n",
       "      <th></th>\n",
       "      <th></th>\n",
       "      <th></th>\n",
       "      <th></th>\n",
       "      <th></th>\n",
       "      <th></th>\n",
       "      <th></th>\n",
       "      <th></th>\n",
       "      <th></th>\n",
       "      <th></th>\n",
       "      <th></th>\n",
       "      <th></th>\n",
       "      <th></th>\n",
       "      <th></th>\n",
       "      <th></th>\n",
       "      <th></th>\n",
       "    </tr>\n",
       "  </thead>\n",
       "  <tbody>\n",
       "    <tr>\n",
       "      <th>2015-01-01</th>\n",
       "      <td>0</td>\n",
       "      <td>ABPO</td>\n",
       "      <td>1</td>\n",
       "      <td>2015</td>\n",
       "      <td>1</td>\n",
       "      <td>1</td>\n",
       "      <td>-19.018</td>\n",
       "      <td>47.229</td>\n",
       "      <td>1552.992</td>\n",
       "      <td>2.134266</td>\n",
       "      <td>843.637083</td>\n",
       "      <td>1.926467</td>\n",
       "      <td>0.207799</td>\n",
       "      <td>278.936250</td>\n",
       "      <td>0.001582</td>\n",
       "      <td>0.000329</td>\n",
       "    </tr>\n",
       "    <tr>\n",
       "      <th>2015-01-02</th>\n",
       "      <td>1</td>\n",
       "      <td>ABPO</td>\n",
       "      <td>2</td>\n",
       "      <td>2015</td>\n",
       "      <td>1</td>\n",
       "      <td>2</td>\n",
       "      <td>-19.018</td>\n",
       "      <td>47.229</td>\n",
       "      <td>1552.992</td>\n",
       "      <td>2.150071</td>\n",
       "      <td>843.319583</td>\n",
       "      <td>1.925742</td>\n",
       "      <td>0.224329</td>\n",
       "      <td>278.319167</td>\n",
       "      <td>0.001580</td>\n",
       "      <td>0.000354</td>\n",
       "    </tr>\n",
       "    <tr>\n",
       "      <th>2015-01-03</th>\n",
       "      <td>2</td>\n",
       "      <td>ABPO</td>\n",
       "      <td>3</td>\n",
       "      <td>2015</td>\n",
       "      <td>1</td>\n",
       "      <td>3</td>\n",
       "      <td>-19.018</td>\n",
       "      <td>47.229</td>\n",
       "      <td>1552.992</td>\n",
       "      <td>2.159808</td>\n",
       "      <td>842.504167</td>\n",
       "      <td>1.923880</td>\n",
       "      <td>0.235928</td>\n",
       "      <td>278.635417</td>\n",
       "      <td>0.001581</td>\n",
       "      <td>0.000373</td>\n",
       "    </tr>\n",
       "    <tr>\n",
       "      <th>2015-01-04</th>\n",
       "      <td>3</td>\n",
       "      <td>ABPO</td>\n",
       "      <td>4</td>\n",
       "      <td>2015</td>\n",
       "      <td>1</td>\n",
       "      <td>4</td>\n",
       "      <td>-19.018</td>\n",
       "      <td>47.229</td>\n",
       "      <td>1552.992</td>\n",
       "      <td>2.164476</td>\n",
       "      <td>841.370833</td>\n",
       "      <td>1.921292</td>\n",
       "      <td>0.243184</td>\n",
       "      <td>277.824167</td>\n",
       "      <td>0.001578</td>\n",
       "      <td>0.000384</td>\n",
       "    </tr>\n",
       "    <tr>\n",
       "      <th>2015-01-05</th>\n",
       "      <td>4</td>\n",
       "      <td>ABPO</td>\n",
       "      <td>5</td>\n",
       "      <td>2015</td>\n",
       "      <td>1</td>\n",
       "      <td>5</td>\n",
       "      <td>-19.018</td>\n",
       "      <td>47.229</td>\n",
       "      <td>1552.992</td>\n",
       "      <td>2.158428</td>\n",
       "      <td>841.223333</td>\n",
       "      <td>1.920955</td>\n",
       "      <td>0.237473</td>\n",
       "      <td>277.868333</td>\n",
       "      <td>0.001578</td>\n",
       "      <td>0.000375</td>\n",
       "    </tr>\n",
       "    <tr>\n",
       "      <th>...</th>\n",
       "      <td>...</td>\n",
       "      <td>...</td>\n",
       "      <td>...</td>\n",
       "      <td>...</td>\n",
       "      <td>...</td>\n",
       "      <td>...</td>\n",
       "      <td>...</td>\n",
       "      <td>...</td>\n",
       "      <td>...</td>\n",
       "      <td>...</td>\n",
       "      <td>...</td>\n",
       "      <td>...</td>\n",
       "      <td>...</td>\n",
       "      <td>...</td>\n",
       "      <td>...</td>\n",
       "      <td>...</td>\n",
       "    </tr>\n",
       "    <tr>\n",
       "      <th>2016-05-10</th>\n",
       "      <td>495</td>\n",
       "      <td>ABPO</td>\n",
       "      <td>496</td>\n",
       "      <td>2016</td>\n",
       "      <td>5</td>\n",
       "      <td>10</td>\n",
       "      <td>-19.018</td>\n",
       "      <td>47.229</td>\n",
       "      <td>1552.992</td>\n",
       "      <td>2.013184</td>\n",
       "      <td>850.352500</td>\n",
       "      <td>1.941802</td>\n",
       "      <td>0.071383</td>\n",
       "      <td>280.131667</td>\n",
       "      <td>0.001587</td>\n",
       "      <td>0.000113</td>\n",
       "    </tr>\n",
       "    <tr>\n",
       "      <th>2016-05-11</th>\n",
       "      <td>496</td>\n",
       "      <td>ABPO</td>\n",
       "      <td>497</td>\n",
       "      <td>2016</td>\n",
       "      <td>5</td>\n",
       "      <td>11</td>\n",
       "      <td>-19.018</td>\n",
       "      <td>47.229</td>\n",
       "      <td>1552.992</td>\n",
       "      <td>2.023105</td>\n",
       "      <td>849.947083</td>\n",
       "      <td>1.940876</td>\n",
       "      <td>0.082229</td>\n",
       "      <td>280.225417</td>\n",
       "      <td>0.001587</td>\n",
       "      <td>0.000131</td>\n",
       "    </tr>\n",
       "    <tr>\n",
       "      <th>2016-05-12</th>\n",
       "      <td>497</td>\n",
       "      <td>ABPO</td>\n",
       "      <td>498</td>\n",
       "      <td>2016</td>\n",
       "      <td>5</td>\n",
       "      <td>12</td>\n",
       "      <td>-19.018</td>\n",
       "      <td>47.229</td>\n",
       "      <td>1552.992</td>\n",
       "      <td>2.028160</td>\n",
       "      <td>849.394583</td>\n",
       "      <td>1.939614</td>\n",
       "      <td>0.088545</td>\n",
       "      <td>280.490000</td>\n",
       "      <td>0.001588</td>\n",
       "      <td>0.000141</td>\n",
       "    </tr>\n",
       "    <tr>\n",
       "      <th>2016-05-13</th>\n",
       "      <td>498</td>\n",
       "      <td>ABPO</td>\n",
       "      <td>499</td>\n",
       "      <td>2016</td>\n",
       "      <td>5</td>\n",
       "      <td>13</td>\n",
       "      <td>-19.018</td>\n",
       "      <td>47.229</td>\n",
       "      <td>1552.992</td>\n",
       "      <td>2.028629</td>\n",
       "      <td>849.368750</td>\n",
       "      <td>1.939555</td>\n",
       "      <td>0.089073</td>\n",
       "      <td>281.089167</td>\n",
       "      <td>0.001591</td>\n",
       "      <td>0.000142</td>\n",
       "    </tr>\n",
       "    <tr>\n",
       "      <th>2016-05-14</th>\n",
       "      <td>499</td>\n",
       "      <td>ABPO</td>\n",
       "      <td>500</td>\n",
       "      <td>2016</td>\n",
       "      <td>5</td>\n",
       "      <td>14</td>\n",
       "      <td>-19.018</td>\n",
       "      <td>47.229</td>\n",
       "      <td>1552.992</td>\n",
       "      <td>2.064937</td>\n",
       "      <td>850.542917</td>\n",
       "      <td>1.942237</td>\n",
       "      <td>0.122700</td>\n",
       "      <td>281.213333</td>\n",
       "      <td>0.001591</td>\n",
       "      <td>0.000195</td>\n",
       "    </tr>\n",
       "  </tbody>\n",
       "</table>\n",
       "<p>500 rows × 16 columns</p>\n",
       "</div>"
      ],
      "text/plain": [
       "            Unnamed: 0   STN  DOY  YEAR  MONTH  DAY     LAT     LON         h  \\\n",
       "date                                                                            \n",
       "2015-01-01           0  ABPO    1  2015      1    1 -19.018  47.229  1552.992   \n",
       "2015-01-02           1  ABPO    2  2015      1    2 -19.018  47.229  1552.992   \n",
       "2015-01-03           2  ABPO    3  2015      1    3 -19.018  47.229  1552.992   \n",
       "2015-01-04           3  ABPO    4  2015      1    4 -19.018  47.229  1552.992   \n",
       "2015-01-05           4  ABPO    5  2015      1    5 -19.018  47.229  1552.992   \n",
       "...                ...   ...  ...   ...    ...  ...     ...     ...       ...   \n",
       "2016-05-10         495  ABPO  496  2016      5   10 -19.018  47.229  1552.992   \n",
       "2016-05-11         496  ABPO  497  2016      5   11 -19.018  47.229  1552.992   \n",
       "2016-05-12         497  ABPO  498  2016      5   12 -19.018  47.229  1552.992   \n",
       "2016-05-13         498  ABPO  499  2016      5   13 -19.018  47.229  1552.992   \n",
       "2016-05-14         499  ABPO  500  2016      5   14 -19.018  47.229  1552.992   \n",
       "\n",
       "             ZTD_igs     p [hPa]       ZHD       ZWD      Tm [K]  Pi(factor)  \\\n",
       "date                                                                           \n",
       "2015-01-01  2.134266  843.637083  1.926467  0.207799  278.936250    0.001582   \n",
       "2015-01-02  2.150071  843.319583  1.925742  0.224329  278.319167    0.001580   \n",
       "2015-01-03  2.159808  842.504167  1.923880  0.235928  278.635417    0.001581   \n",
       "2015-01-04  2.164476  841.370833  1.921292  0.243184  277.824167    0.001578   \n",
       "2015-01-05  2.158428  841.223333  1.920955  0.237473  277.868333    0.001578   \n",
       "...              ...         ...       ...       ...         ...         ...   \n",
       "2016-05-10  2.013184  850.352500  1.941802  0.071383  280.131667    0.001587   \n",
       "2016-05-11  2.023105  849.947083  1.940876  0.082229  280.225417    0.001587   \n",
       "2016-05-12  2.028160  849.394583  1.939614  0.088545  280.490000    0.001588   \n",
       "2016-05-13  2.028629  849.368750  1.939555  0.089073  281.089167    0.001591   \n",
       "2016-05-14  2.064937  850.542917  1.942237  0.122700  281.213333    0.001591   \n",
       "\n",
       "                 PWV  \n",
       "date                  \n",
       "2015-01-01  0.000329  \n",
       "2015-01-02  0.000354  \n",
       "2015-01-03  0.000373  \n",
       "2015-01-04  0.000384  \n",
       "2015-01-05  0.000375  \n",
       "...              ...  \n",
       "2016-05-10  0.000113  \n",
       "2016-05-11  0.000131  \n",
       "2016-05-12  0.000141  \n",
       "2016-05-13  0.000142  \n",
       "2016-05-14  0.000195  \n",
       "\n",
       "[500 rows x 16 columns]"
      ]
     },
     "execution_count": 11,
     "metadata": {},
     "output_type": "execute_result"
    }
   ],
   "source": [
    "ABPO_STATION[:(len(ABPO_STATION)-len(ABPO_STATION[:-500]))]"
   ]
  },
  {
   "cell_type": "code",
   "execution_count": 4,
   "id": "ad4834be",
   "metadata": {},
   "outputs": [
    {
     "name": "stderr",
     "output_type": "stream",
     "text": [
      "C:\\Users\\Martin Aborgeh\\anaconda3\\lib\\site-packages\\sklearn\\utils\\validation.py:993: DataConversionWarning: A column-vector y was passed when a 1d array was expected. Please change the shape of y to (n_samples, ), for example using ravel().\n",
      "  y = column_or_1d(y, warn=True)\n"
     ]
    },
    {
     "name": "stdout",
     "output_type": "stream",
     "text": [
      "Root Mean Squared Error (RMSE): 0.004362919300503391\n"
     ]
    },
    {
     "name": "stderr",
     "output_type": "stream",
     "text": [
      "C:\\Users\\Martin Aborgeh\\anaconda3\\lib\\site-packages\\sklearn\\neural_network\\_multilayer_perceptron.py:1599: DataConversionWarning: A column-vector y was passed when a 1d array was expected. Please change the shape of y to (n_samples, ), for example using ravel().\n",
      "  y = column_or_1d(y, warn=True)\n",
      "C:\\Users\\Martin Aborgeh\\anaconda3\\lib\\site-packages\\sklearn\\neural_network\\_multilayer_perceptron.py:1599: DataConversionWarning: A column-vector y was passed when a 1d array was expected. Please change the shape of y to (n_samples, ), for example using ravel().\n",
      "  y = column_or_1d(y, warn=True)\n",
      "C:\\Users\\Martin Aborgeh\\anaconda3\\lib\\site-packages\\sklearn\\neural_network\\_multilayer_perceptron.py:1599: DataConversionWarning: A column-vector y was passed when a 1d array was expected. Please change the shape of y to (n_samples, ), for example using ravel().\n",
      "  y = column_or_1d(y, warn=True)\n",
      "C:\\Users\\Martin Aborgeh\\anaconda3\\lib\\site-packages\\sklearn\\neural_network\\_multilayer_perceptron.py:1599: DataConversionWarning: A column-vector y was passed when a 1d array was expected. Please change the shape of y to (n_samples, ), for example using ravel().\n",
      "  y = column_or_1d(y, warn=True)\n",
      "C:\\Users\\Martin Aborgeh\\anaconda3\\lib\\site-packages\\sklearn\\neural_network\\_multilayer_perceptron.py:1599: DataConversionWarning: A column-vector y was passed when a 1d array was expected. Please change the shape of y to (n_samples, ), for example using ravel().\n",
      "  y = column_or_1d(y, warn=True)\n",
      "C:\\Users\\Martin Aborgeh\\anaconda3\\lib\\site-packages\\sklearn\\utils\\validation.py:993: DataConversionWarning: A column-vector y was passed when a 1d array was expected. Please change the shape of y to (n_samples, ), for example using ravel().\n",
      "  y = column_or_1d(y, warn=True)\n",
      "C:\\Users\\Martin Aborgeh\\anaconda3\\lib\\site-packages\\sklearn\\utils\\validation.py:993: DataConversionWarning: A column-vector y was passed when a 1d array was expected. Please change the shape of y to (n_samples, ), for example using ravel().\n",
      "  y = column_or_1d(y, warn=True)\n",
      "C:\\Users\\Martin Aborgeh\\anaconda3\\lib\\site-packages\\sklearn\\utils\\validation.py:993: DataConversionWarning: A column-vector y was passed when a 1d array was expected. Please change the shape of y to (n_samples, ), for example using ravel().\n",
      "  y = column_or_1d(y, warn=True)\n",
      "C:\\Users\\Martin Aborgeh\\anaconda3\\lib\\site-packages\\sklearn\\utils\\validation.py:993: DataConversionWarning: A column-vector y was passed when a 1d array was expected. Please change the shape of y to (n_samples, ), for example using ravel().\n",
      "  y = column_or_1d(y, warn=True)\n",
      "C:\\Users\\Martin Aborgeh\\anaconda3\\lib\\site-packages\\sklearn\\utils\\validation.py:993: DataConversionWarning: A column-vector y was passed when a 1d array was expected. Please change the shape of y to (n_samples, ), for example using ravel().\n",
      "  y = column_or_1d(y, warn=True)\n",
      "C:\\Users\\Martin Aborgeh\\anaconda3\\lib\\site-packages\\seaborn\\_decorators.py:36: FutureWarning: Pass the following variables as keyword args: x, y. From version 0.12, the only valid positional argument will be `data`, and passing other arguments without an explicit keyword will result in an error or misinterpretation.\n",
      "  warnings.warn(\n"
     ]
    },
    {
     "name": "stdout",
     "output_type": "stream",
     "text": [
      "          Date    Actual  Predicted\n",
      "0   2021-08-19  2.022384   2.017703\n",
      "1   2021-08-20  2.072468   2.078674\n",
      "2   2021-08-21  2.136429   2.136842\n",
      "3   2021-08-22  2.029610   2.028986\n",
      "4   2021-08-23  2.098884   2.094322\n",
      "..         ...       ...        ...\n",
      "495 2022-12-27  2.027870   2.027732\n",
      "496 2022-12-28  1.964758   1.963388\n",
      "497 2022-12-29  2.041474   2.039972\n",
      "498 2022-12-30  1.994940   1.991373\n",
      "499 2022-12-31  2.010683   2.016657\n",
      "\n",
      "[500 rows x 3 columns]\n"
     ]
    },
    {
     "data": {
      "image/png": "[encoded data removed]",
      "text/plain": [
       "<Figure size 1300x600 with 1 Axes>"
      ]
     },
     "metadata": {},
     "output_type": "display_data"
    }
   ],
   "source": [
    "Stack_ensemble_Prediction(ABPO_STATION)"
   ]
  },
  {
   "cell_type": "code",
   "execution_count": 5,
   "id": "cc1008c0",
   "metadata": {},
   "outputs": [],
   "source": [
    "# Stack_ensemble_Prediction(ADIS_STATION)"
   ]
  },
  {
   "cell_type": "code",
   "execution_count": 6,
   "id": "63f9c00b",
   "metadata": {},
   "outputs": [],
   "source": [
    "# Stack_ensemble_Prediction(MAL2_STATION)\n"
   ]
  },
  {
   "cell_type": "code",
   "execution_count": 5,
   "id": "4459ac3d",
   "metadata": {},
   "outputs": [
    {
     "name": "stderr",
     "output_type": "stream",
     "text": [
      "C:\\Users\\Martin Aborgeh\\anaconda3\\lib\\site-packages\\sklearn\\utils\\validation.py:993: DataConversionWarning: A column-vector y was passed when a 1d array was expected. Please change the shape of y to (n_samples, ), for example using ravel().\n",
      "  y = column_or_1d(y, warn=True)\n"
     ]
    },
    {
     "name": "stdout",
     "output_type": "stream",
     "text": [
      "Root Mean Squared Error (RMSE): 0.002155871885795152\n"
     ]
    },
    {
     "name": "stderr",
     "output_type": "stream",
     "text": [
      "C:\\Users\\Martin Aborgeh\\anaconda3\\lib\\site-packages\\sklearn\\neural_network\\_multilayer_perceptron.py:1599: DataConversionWarning: A column-vector y was passed when a 1d array was expected. Please change the shape of y to (n_samples, ), for example using ravel().\n",
      "  y = column_or_1d(y, warn=True)\n",
      "C:\\Users\\Martin Aborgeh\\anaconda3\\lib\\site-packages\\sklearn\\neural_network\\_multilayer_perceptron.py:1599: DataConversionWarning: A column-vector y was passed when a 1d array was expected. Please change the shape of y to (n_samples, ), for example using ravel().\n",
      "  y = column_or_1d(y, warn=True)\n",
      "C:\\Users\\Martin Aborgeh\\anaconda3\\lib\\site-packages\\sklearn\\neural_network\\_multilayer_perceptron.py:1599: DataConversionWarning: A column-vector y was passed when a 1d array was expected. Please change the shape of y to (n_samples, ), for example using ravel().\n",
      "  y = column_or_1d(y, warn=True)\n",
      "C:\\Users\\Martin Aborgeh\\anaconda3\\lib\\site-packages\\sklearn\\neural_network\\_multilayer_perceptron.py:1599: DataConversionWarning: A column-vector y was passed when a 1d array was expected. Please change the shape of y to (n_samples, ), for example using ravel().\n",
      "  y = column_or_1d(y, warn=True)\n",
      "C:\\Users\\Martin Aborgeh\\anaconda3\\lib\\site-packages\\sklearn\\neural_network\\_multilayer_perceptron.py:1599: DataConversionWarning: A column-vector y was passed when a 1d array was expected. Please change the shape of y to (n_samples, ), for example using ravel().\n",
      "  y = column_or_1d(y, warn=True)\n",
      "C:\\Users\\Martin Aborgeh\\anaconda3\\lib\\site-packages\\sklearn\\utils\\validation.py:993: DataConversionWarning: A column-vector y was passed when a 1d array was expected. Please change the shape of y to (n_samples, ), for example using ravel().\n",
      "  y = column_or_1d(y, warn=True)\n",
      "C:\\Users\\Martin Aborgeh\\anaconda3\\lib\\site-packages\\sklearn\\utils\\validation.py:993: DataConversionWarning: A column-vector y was passed when a 1d array was expected. Please change the shape of y to (n_samples, ), for example using ravel().\n",
      "  y = column_or_1d(y, warn=True)\n",
      "C:\\Users\\Martin Aborgeh\\anaconda3\\lib\\site-packages\\sklearn\\utils\\validation.py:993: DataConversionWarning: A column-vector y was passed when a 1d array was expected. Please change the shape of y to (n_samples, ), for example using ravel().\n",
      "  y = column_or_1d(y, warn=True)\n",
      "C:\\Users\\Martin Aborgeh\\anaconda3\\lib\\site-packages\\sklearn\\utils\\validation.py:993: DataConversionWarning: A column-vector y was passed when a 1d array was expected. Please change the shape of y to (n_samples, ), for example using ravel().\n",
      "  y = column_or_1d(y, warn=True)\n",
      "C:\\Users\\Martin Aborgeh\\anaconda3\\lib\\site-packages\\sklearn\\utils\\validation.py:993: DataConversionWarning: A column-vector y was passed when a 1d array was expected. Please change the shape of y to (n_samples, ), for example using ravel().\n",
      "  y = column_or_1d(y, warn=True)\n",
      "C:\\Users\\Martin Aborgeh\\anaconda3\\lib\\site-packages\\seaborn\\_decorators.py:36: FutureWarning: Pass the following variables as keyword args: x, y. From version 0.12, the only valid positional argument will be `data`, and passing other arguments without an explicit keyword will result in an error or misinterpretation.\n",
      "  warnings.warn(\n"
     ]
    },
    {
     "name": "stdout",
     "output_type": "stream",
     "text": [
      "          Date    Actual  Predicted\n",
      "0   2021-08-19  1.878090   1.879879\n",
      "1   2021-08-20  1.809732   1.812792\n",
      "2   2021-08-21  1.838105   1.837767\n",
      "3   2021-08-22  1.903851   1.904481\n",
      "4   2021-08-23  1.852614   1.853945\n",
      "..         ...       ...        ...\n",
      "495 2022-12-27  1.888522   1.892511\n",
      "496 2022-12-28  1.847856   1.847769\n",
      "497 2022-12-29  1.846329   1.845628\n",
      "498 2022-12-30  1.885872   1.887879\n",
      "499 2022-12-31  1.847034   1.849602\n",
      "\n",
      "[500 rows x 3 columns]\n"
     ]
    },
    {
     "data": {
      "image/png": "[encoded data removed]",
      "text/plain": [
       "<Figure size 1300x600 with 1 Axes>"
      ]
     },
     "metadata": {},
     "output_type": "display_data"
    }
   ],
   "source": [
    "Stack_ensemble_Prediction(ADIS_STATION)"
   ]
  },
  {
   "cell_type": "code",
   "execution_count": null,
   "id": "15e4cd12",
   "metadata": {},
   "outputs": [
    {
     "name": "stderr",
     "output_type": "stream",
     "text": [
      "C:\\Users\\Martin Aborgeh\\anaconda3\\lib\\site-packages\\sklearn\\utils\\validation.py:993: DataConversionWarning: A column-vector y was passed when a 1d array was expected. Please change the shape of y to (n_samples, ), for example using ravel().\n",
      "  y = column_or_1d(y, warn=True)\n"
     ]
    },
    {
     "name": "stdout",
     "output_type": "stream",
     "text": [
      "Root Mean Squared Error (RMSE): 0.005190404870723981\n"
     ]
    },
    {
     "name": "stderr",
     "output_type": "stream",
     "text": [
      "C:\\Users\\Martin Aborgeh\\anaconda3\\lib\\site-packages\\sklearn\\neural_network\\_multilayer_perceptron.py:1599: DataConversionWarning: A column-vector y was passed when a 1d array was expected. Please change the shape of y to (n_samples, ), for example using ravel().\n",
      "  y = column_or_1d(y, warn=True)\n",
      "C:\\Users\\Martin Aborgeh\\anaconda3\\lib\\site-packages\\sklearn\\neural_network\\_multilayer_perceptron.py:1599: DataConversionWarning: A column-vector y was passed when a 1d array was expected. Please change the shape of y to (n_samples, ), for example using ravel().\n",
      "  y = column_or_1d(y, warn=True)\n",
      "C:\\Users\\Martin Aborgeh\\anaconda3\\lib\\site-packages\\sklearn\\neural_network\\_multilayer_perceptron.py:1599: DataConversionWarning: A column-vector y was passed when a 1d array was expected. Please change the shape of y to (n_samples, ), for example using ravel().\n",
      "  y = column_or_1d(y, warn=True)\n",
      "C:\\Users\\Martin Aborgeh\\anaconda3\\lib\\site-packages\\sklearn\\neural_network\\_multilayer_perceptron.py:1599: DataConversionWarning: A column-vector y was passed when a 1d array was expected. Please change the shape of y to (n_samples, ), for example using ravel().\n",
      "  y = column_or_1d(y, warn=True)\n",
      "C:\\Users\\Martin Aborgeh\\anaconda3\\lib\\site-packages\\sklearn\\neural_network\\_multilayer_perceptron.py:1599: DataConversionWarning: A column-vector y was passed when a 1d array was expected. Please change the shape of y to (n_samples, ), for example using ravel().\n",
      "  y = column_or_1d(y, warn=True)\n",
      "C:\\Users\\Martin Aborgeh\\anaconda3\\lib\\site-packages\\sklearn\\utils\\validation.py:993: DataConversionWarning: A column-vector y was passed when a 1d array was expected. Please change the shape of y to (n_samples, ), for example using ravel().\n",
      "  y = column_or_1d(y, warn=True)\n"
     ]
    }
   ],
   "source": [
    "Stack_ensemble_Prediction(MAL2_STATION)"
   ]
  },
  {
   "cell_type": "code",
   "execution_count": 7,
   "id": "9843a39d",
   "metadata": {},
   "outputs": [
    {
     "name": "stderr",
     "output_type": "stream",
     "text": [
      "C:\\Users\\Martin Aborgeh\\anaconda3\\lib\\site-packages\\sklearn\\utils\\validation.py:993: DataConversionWarning: A column-vector y was passed when a 1d array was expected. Please change the shape of y to (n_samples, ), for example using ravel().\n",
      "  y = column_or_1d(y, warn=True)\n"
     ]
    },
    {
     "name": "stdout",
     "output_type": "stream",
     "text": [
      "Root Mean Squared Error (RMSE): 0.0003102568194383033\n"
     ]
    },
    {
     "name": "stderr",
     "output_type": "stream",
     "text": [
      "C:\\Users\\Martin Aborgeh\\anaconda3\\lib\\site-packages\\sklearn\\neural_network\\_multilayer_perceptron.py:1599: DataConversionWarning: A column-vector y was passed when a 1d array was expected. Please change the shape of y to (n_samples, ), for example using ravel().\n",
      "  y = column_or_1d(y, warn=True)\n",
      "C:\\Users\\Martin Aborgeh\\anaconda3\\lib\\site-packages\\sklearn\\neural_network\\_multilayer_perceptron.py:1599: DataConversionWarning: A column-vector y was passed when a 1d array was expected. Please change the shape of y to (n_samples, ), for example using ravel().\n",
      "  y = column_or_1d(y, warn=True)\n",
      "C:\\Users\\Martin Aborgeh\\anaconda3\\lib\\site-packages\\sklearn\\neural_network\\_multilayer_perceptron.py:1599: DataConversionWarning: A column-vector y was passed when a 1d array was expected. Please change the shape of y to (n_samples, ), for example using ravel().\n",
      "  y = column_or_1d(y, warn=True)\n",
      "C:\\Users\\Martin Aborgeh\\anaconda3\\lib\\site-packages\\sklearn\\neural_network\\_multilayer_perceptron.py:1599: DataConversionWarning: A column-vector y was passed when a 1d array was expected. Please change the shape of y to (n_samples, ), for example using ravel().\n",
      "  y = column_or_1d(y, warn=True)\n",
      "C:\\Users\\Martin Aborgeh\\anaconda3\\lib\\site-packages\\sklearn\\neural_network\\_multilayer_perceptron.py:1599: DataConversionWarning: A column-vector y was passed when a 1d array was expected. Please change the shape of y to (n_samples, ), for example using ravel().\n",
      "  y = column_or_1d(y, warn=True)\n",
      "C:\\Users\\Martin Aborgeh\\anaconda3\\lib\\site-packages\\sklearn\\utils\\validation.py:993: DataConversionWarning: A column-vector y was passed when a 1d array was expected. Please change the shape of y to (n_samples, ), for example using ravel().\n",
      "  y = column_or_1d(y, warn=True)\n",
      "C:\\Users\\Martin Aborgeh\\anaconda3\\lib\\site-packages\\sklearn\\utils\\validation.py:993: DataConversionWarning: A column-vector y was passed when a 1d array was expected. Please change the shape of y to (n_samples, ), for example using ravel().\n",
      "  y = column_or_1d(y, warn=True)\n",
      "C:\\Users\\Martin Aborgeh\\anaconda3\\lib\\site-packages\\sklearn\\utils\\validation.py:993: DataConversionWarning: A column-vector y was passed when a 1d array was expected. Please change the shape of y to (n_samples, ), for example using ravel().\n",
      "  y = column_or_1d(y, warn=True)\n",
      "C:\\Users\\Martin Aborgeh\\anaconda3\\lib\\site-packages\\sklearn\\utils\\validation.py:993: DataConversionWarning: A column-vector y was passed when a 1d array was expected. Please change the shape of y to (n_samples, ), for example using ravel().\n",
      "  y = column_or_1d(y, warn=True)\n",
      "C:\\Users\\Martin Aborgeh\\anaconda3\\lib\\site-packages\\sklearn\\utils\\validation.py:993: DataConversionWarning: A column-vector y was passed when a 1d array was expected. Please change the shape of y to (n_samples, ), for example using ravel().\n",
      "  y = column_or_1d(y, warn=True)\n",
      "C:\\Users\\Martin Aborgeh\\anaconda3\\lib\\site-packages\\seaborn\\_decorators.py:36: FutureWarning: Pass the following variables as keyword args: x, y. From version 0.12, the only valid positional argument will be `data`, and passing other arguments without an explicit keyword will result in an error or misinterpretation.\n",
      "  warnings.warn(\n"
     ]
    },
    {
     "name": "stdout",
     "output_type": "stream",
     "text": [
      "          Date    Actual  Predicted\n",
      "0   2021-08-19  0.029517   0.029608\n",
      "1   2021-08-20  0.034083   0.034481\n",
      "2   2021-08-21  0.031471   0.031691\n",
      "3   2021-08-22  0.022858   0.022556\n",
      "4   2021-08-23  0.035700   0.036299\n",
      "..         ...       ...        ...\n",
      "495 2022-12-27  0.031288   0.031562\n",
      "496 2022-12-28  0.027467   0.027359\n",
      "497 2022-12-29  0.018971   0.018404\n",
      "498 2022-12-30  0.022113   0.021910\n",
      "499 2022-12-31  0.020858   0.020230\n",
      "\n",
      "[500 rows x 3 columns]\n"
     ]
    },
    {
     "data": {
      "image/png": "[encoded data removed]",
      "text/plain": [
       "<Figure size 1300x600 with 1 Axes>"
      ]
     },
     "metadata": {},
     "output_type": "display_data"
    }
   ],
   "source": [
    "Stack_ensemble_Prediction(NURK_STATION)"
   ]
  },
  {
   "cell_type": "code",
   "execution_count": null,
   "id": "679b0abc",
   "metadata": {},
   "outputs": [],
   "source": []
  }
 ],
 "metadata": {
  "kernelspec": {
   "display_name": "Python 3 (ipykernel)",
   "language": "python",
   "name": "python3"
  },
  "language_info": {
   "codemirror_mode": {
    "name": "ipython",
    "version": 3
   },
   "file_extension": ".py",
   "mimetype": "text/x-python",
   "name": "python",
   "nbconvert_exporter": "python",
   "pygments_lexer": "ipython3",
   "version": "3.9.13"
  }
 },
 "nbformat": 4,
 "nbformat_minor": 5
}
